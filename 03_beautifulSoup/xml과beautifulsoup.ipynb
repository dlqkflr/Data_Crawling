{
 "cells": [
  {
   "cell_type": "code",
   "execution_count": 5,
   "metadata": {},
   "outputs": [
    {
     "name": "stdout",
     "output_type": "stream",
     "text": [
      "[<price>33,000원</price>, <price>10000</price>]\n",
      "[<title>케라스창시자에게 배우는 딥러닝</title>, <title>삼체</title>]\n",
      "<book id=\"1\">\n",
      "<title>삼체</title>\n",
      "<price>10000</price>\n",
      "<author>류츠신</author>\n",
      "</book>\n"
     ]
    }
   ],
   "source": [
    "xml =  \"\"\" \n",
    "   <books> \n",
    "     <book> \n",
    "         <title>케라스창시자에게 배우는 딥러닝</title> \n",
    "         <price>33,000원</price>\n",
    "         <author>프랑소와 숄레</author>\n",
    "     </book>\n",
    "     <book  id=\"1\" > \n",
    "         <title>삼체</title> \n",
    "         <price>10000</price>\n",
    "         <author>류츠신</author>\n",
    "     </book> \n",
    "   </books> \n",
    "    \"\"\"\n",
    "\n",
    "from bs4 import BeautifulSoup\n",
    "bs = BeautifulSoup(xml, features=\"html.parser\")\n",
    "\n",
    "print( bs.find_all(\"price\")) \n",
    "print( bs.find_all(\"title\")) \n",
    "\n",
    "print( bs.find  (id=\"1\"))    \n",
    "\n",
    "# 문제  책 제목과  저자를 함께 출력하세요. "
   ]
  }
 ],
 "metadata": {
  "kernelspec": {
   "display_name": "Python 3",
   "language": "python",
   "name": "python3"
  },
  "language_info": {
   "codemirror_mode": {
    "name": "ipython",
    "version": 3
   },
   "file_extension": ".py",
   "mimetype": "text/x-python",
   "name": "python",
   "nbconvert_exporter": "python",
   "pygments_lexer": "ipython3",
   "version": "3.7.3"
  }
 },
 "nbformat": 4,
 "nbformat_minor": 2
}
